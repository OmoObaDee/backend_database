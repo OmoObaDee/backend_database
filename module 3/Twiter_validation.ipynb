{
 "cells": [
  {
   "cell_type": "code",
   "execution_count": 1,
   "id": "ac2f1f90",
   "metadata": {},
   "outputs": [],
   "source": [
    "from typing import Optional\n",
    "from pydantic import BaseModel, field_validator, ValidationError\n",
    "import re\n"
   ]
  },
  {
   "cell_type": "code",
   "execution_count": 2,
   "id": "b0a8399e",
   "metadata": {},
   "outputs": [],
   "source": [
    "class TwitterUser(BaseModel):\n",
    "    username: str\n",
    "    post: str\n",
    "\n",
    "    @field_validator('username')\n",
    "    def validate_twiter_username(cls, v):\n",
    "        if not v. startswith('@'):\n",
    "            raise ValueError(\"Twitter username must start with @\")\n",
    "        \n",
    "                        #checking the length rule \n",
    "         \n",
    "        if len(v) < 3 or len(v) > 20:\n",
    "            raise ValueError (\"Twitter username must be between 1-20 characters\")\n",
    "        if not re.match(r'^[A-Za-z0-9_]+$%,v'):\n",
    "            raise ValueError (\"Twitter username may inclde Upper and Lower case letters, underscore and special characters after @ \")\n",
    "        return v\n",
    "    \n"
   ]
  },
  {
   "cell_type": "code",
   "execution_count": 3,
   "id": "29eb9f30",
   "metadata": {},
   "outputs": [],
   "source": [
    "@field_validator('post') \n",
    "def validate_twiter_post(cls, v):\n",
    "       \n",
    "        if not (1 <= len(v) >= 360):\n",
    "            raise ValueError(\"Tweet must be between 1 and 360 characters\")\n",
    "        return v"
   ]
  },
  {
   "cell_type": "code",
   "execution_count": 5,
   "id": "14c5cc66",
   "metadata": {},
   "outputs": [],
   "source": [
    "import re\n",
    "\n",
    "class TwitterUser:\n",
    "    def __init__(self, username):\n",
    "        self.username = self.validate_username(username)\n",
    "\n",
    "    def validate_username(self, v):\n",
    "        if not v.startswith(\"@\"):\n",
    "            raise ValueError(\"Twitter username must start with '@'\")\n",
    "        v = v[1:]  # remove '@'\n",
    "        if len(v) < 3 or len(v) > 20:\n",
    "            raise ValueError(\"Twitter username must be between 3–20 characters\")\n",
    "        if not re.match(r'^[A-Za-z0-9_]+$', v):\n",
    "            raise ValueError(\"Username may include only letters, numbers, and underscores\")\n",
    "        return v\n"
   ]
  },
  {
   "cell_type": "code",
   "execution_count": 6,
   "id": "03a1d88c",
   "metadata": {},
   "outputs": [
    {
     "name": "stdout",
     "output_type": "stream",
     "text": [
      "✅ Valid tweet username\n"
     ]
    }
   ],
   "source": [
    "if __name__ == \"__main__\":\n",
    "    try:\n",
    "        tweet = TwitterUser(username=\"@meritus_lux\")\n",
    "        print(\"✅ Valid tweet username\")\n",
    "    except ValueError as e:\n",
    "        print(\"❌\", e)\n"
   ]
  }
 ],
 "metadata": {
  "kernelspec": {
   "display_name": "Backend",
   "language": "python",
   "name": "python3"
  },
  "language_info": {
   "codemirror_mode": {
    "name": "ipython",
    "version": 3
   },
   "file_extension": ".py",
   "mimetype": "text/x-python",
   "name": "python",
   "nbconvert_exporter": "python",
   "pygments_lexer": "ipython3",
   "version": "3.13.7"
  }
 },
 "nbformat": 4,
 "nbformat_minor": 5
}
